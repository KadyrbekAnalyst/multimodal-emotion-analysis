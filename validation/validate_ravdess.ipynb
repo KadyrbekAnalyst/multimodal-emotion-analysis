{
 "cells": [
  {
   "cell_type": "code",
   "execution_count": 1,
   "metadata": {},
   "outputs": [
    {
     "name": "stderr",
     "output_type": "stream",
     "text": [
      "2024-12-18 16:04:54.541160: I tensorflow/tsl/cuda/cudart_stub.cc:28] Could not find cuda drivers on your machine, GPU will not be used.\n",
      "2024-12-18 16:04:54.586820: E tensorflow/compiler/xla/stream_executor/cuda/cuda_dnn.cc:9342] Unable to register cuDNN factory: Attempting to register factory for plugin cuDNN when one has already been registered\n",
      "2024-12-18 16:04:54.586861: E tensorflow/compiler/xla/stream_executor/cuda/cuda_fft.cc:609] Unable to register cuFFT factory: Attempting to register factory for plugin cuFFT when one has already been registered\n",
      "2024-12-18 16:04:54.586918: E tensorflow/compiler/xla/stream_executor/cuda/cuda_blas.cc:1518] Unable to register cuBLAS factory: Attempting to register factory for plugin cuBLAS when one has already been registered\n",
      "2024-12-18 16:04:54.596185: I tensorflow/tsl/cuda/cudart_stub.cc:28] Could not find cuda drivers on your machine, GPU will not be used.\n",
      "2024-12-18 16:04:54.597239: I tensorflow/core/platform/cpu_feature_guard.cc:182] This TensorFlow binary is optimized to use available CPU instructions in performance-critical operations.\n",
      "To enable the following instructions: AVX2 FMA, in other operations, rebuild TensorFlow with the appropriate compiler flags.\n",
      "2024-12-18 16:04:56.257494: W tensorflow/compiler/tf2tensorrt/utils/py_utils.cc:38] TF-TRT Warning: Could not find TensorRT\n"
     ]
    }
   ],
   "source": [
    "import os\n",
    "import numpy as np\n",
    "import matplotlib.pyplot as plt\n",
    "from tqdm import tqdm\n",
    "from sklearn.metrics import classification_report, confusion_matrix\n",
    "import seaborn as sns\n",
    "import cv2\n",
    "from deepface import DeepFace\n",
    "from transformers import pipeline\n",
    "import librosa\n",
    "import librosa.display\n",
    "import soundfile as sf\n",
    "\n",
    "# Ensure results directory exists\n",
    "os.makedirs(\"results/plots\", exist_ok=True)"
   ]
  },
  {
   "cell_type": "code",
   "execution_count": 3,
   "metadata": {},
   "outputs": [],
   "source": [
    "ravdess_test_data = \"RAVDESS\""
   ]
  },
  {
   "cell_type": "code",
   "execution_count": 7,
   "metadata": {},
   "outputs": [],
   "source": [
    "def load_ravdess_audio(data_dir):\n",
    "    \"\"\"\n",
    "    Load RAVDESS audio files recursively and extract emotion labels from filenames.\n",
    "    :param data_dir: Path to directory containing RAVDESS actor folders\n",
    "    :return: List of tuples (audio path, label)\n",
    "    \"\"\"\n",
    "    emotions_map = {\n",
    "        '01': 'neutral', '02': 'calm', '03': 'happy', '04': 'sad',\n",
    "        '05': 'angry', '06': 'fear', '07': 'disgust', '08': 'surprise'\n",
    "    }\n",
    "\n",
    "    data = []\n",
    "    for root, _, files in os.walk(data_dir):\n",
    "        for file in files:\n",
    "            if file.endswith('.wav'):\n",
    "                parts = file.split(\"-\")\n",
    "                if len(parts) > 2:  # Ensure filename format is correct\n",
    "                    emotion_label = emotions_map.get(parts[2], \"unknown\")\n",
    "                    data.append((os.path.join(root, file), emotion_label))\n",
    "    print(f\"Loaded {len(data)} audio files from {data_dir}.\")\n",
    "    return data\n",
    "\n",
    "\n",
    "def validate_wav2vec2_ravdess(audio_data, sample_size=100):\n",
    "    \"\"\"\n",
    "    Validate Wav2Vec2 model on RAVDESS audio data.\n",
    "    :param audio_data: List of tuples (audio path, label)\n",
    "    :param sample_size: Number of samples to process\n",
    "    :return: Ground truth and predicted labels\n",
    "    \"\"\"\n",
    "    ground_truth = []\n",
    "    predictions = []\n",
    "    \n",
    "    classifier = pipeline(\"audio-classification\", model=\"ehcalabres/wav2vec2-lg-xlsr-en-speech-emotion-recognition\")\n",
    "    sampled_data = audio_data[:sample_size]\n",
    "    print(f\"Validating Wav2Vec2 on {len(sampled_data)} samples...\")\n",
    "    \n",
    "    for audio_path, label in tqdm(sampled_data):\n",
    "        ground_truth.append(label)\n",
    "        \n",
    "        try:\n",
    "            result = classifier(audio_path)\n",
    "            predicted_label = result[0]['label'].lower()\n",
    "        except Exception as e:\n",
    "            print(f\"Error processing {audio_path}: {e}\")\n",
    "            predicted_label = \"error\"\n",
    "        predictions.append(predicted_label)\n",
    "    \n",
    "    return ground_truth, predictions"
   ]
  },
  {
   "cell_type": "code",
   "execution_count": 11,
   "metadata": {},
   "outputs": [],
   "source": [
    "def plot_confusion_matrix(cm, labels, title, save_path):\n",
    "    plt.figure(figsize=(8, 6))\n",
    "    sns.heatmap(cm, annot=True, fmt='d', cmap='Blues', xticklabels=labels, yticklabels=labels)\n",
    "    plt.title(title)\n",
    "    plt.ylabel('True Label')\n",
    "    plt.xlabel('Predicted Label')\n",
    "    \n",
    "    # Удаляем старый файл, если он существует\n",
    "    if os.path.exists(save_path):\n",
    "        os.remove(save_path)\n",
    "\n",
    "    plt.savefig(save_path)\n",
    "    plt.close()\n",
    "\n",
    "def visualize_results(ground_truth, predictions, labels, save_dir, filename):\n",
    "    \"\"\"\n",
    "    Generate confusion matrix and classification report\n",
    "    :param ground_truth: List of ground truth labels\n",
    "    :param predictions: List of predicted labels\n",
    "    :param labels: List of class labels\n",
    "    :param save_dir: Directory to save plots\n",
    "    :param filename: Name of the saved plot\n",
    "    \"\"\"\n",
    "    cm = confusion_matrix(ground_truth, predictions, labels=labels)\n",
    "    print(\"\\nClassification Report:\")\n",
    "    print(classification_report(ground_truth, predictions, labels=labels))\n",
    "    \n",
    "    # Save confusion matrix plot\n",
    "    cm_path = os.path.join(save_dir, filename)\n",
    "    plot_confusion_matrix(cm, labels, filename.split(\".\")[0], cm_path)\n",
    "    print(f\"Confusion matrix saved at: {cm_path}\")"
   ]
  },
  {
   "cell_type": "code",
   "execution_count": 12,
   "metadata": {},
   "outputs": [
    {
     "name": "stdout",
     "output_type": "stream",
     "text": [
      "\n",
      "Starting RAVDESS validation with Wav2Vec2...\n",
      "Loaded 2880 audio files from RAVDESS.\n"
     ]
    },
    {
     "name": "stderr",
     "output_type": "stream",
     "text": [
      "Some weights of the model checkpoint at ehcalabres/wav2vec2-lg-xlsr-en-speech-emotion-recognition were not used when initializing Wav2Vec2ForSequenceClassification: ['classifier.output.weight', 'classifier.dense.weight', 'classifier.output.bias', 'wav2vec2.encoder.pos_conv_embed.conv.weight_v', 'wav2vec2.encoder.pos_conv_embed.conv.weight_g', 'classifier.dense.bias']\n",
      "- This IS expected if you are initializing Wav2Vec2ForSequenceClassification from the checkpoint of a model trained on another task or with another architecture (e.g. initializing a BertForSequenceClassification model from a BertForPreTraining model).\n",
      "- This IS NOT expected if you are initializing Wav2Vec2ForSequenceClassification from the checkpoint of a model that you expect to be exactly identical (initializing a BertForSequenceClassification model from a BertForSequenceClassification model).\n",
      "Some weights of Wav2Vec2ForSequenceClassification were not initialized from the model checkpoint at ehcalabres/wav2vec2-lg-xlsr-en-speech-emotion-recognition and are newly initialized: ['classifier.bias', 'classifier.weight', 'projector.bias', 'wav2vec2.encoder.pos_conv_embed.conv.parametrizations.weight.original0', 'projector.weight', 'wav2vec2.encoder.pos_conv_embed.conv.parametrizations.weight.original1']\n",
      "You should probably TRAIN this model on a down-stream task to be able to use it for predictions and inference.\n"
     ]
    },
    {
     "name": "stdout",
     "output_type": "stream",
     "text": [
      "Validating Wav2Vec2 on 2800 samples...\n"
     ]
    },
    {
     "name": "stderr",
     "output_type": "stream",
     "text": [
      "100%|██████████| 2800/2800 [21:48<00:00,  2.14it/s]"
     ]
    },
    {
     "name": "stdout",
     "output_type": "stream",
     "text": [
      "\n",
      "Classification Report:\n",
      "              precision    recall  f1-score   support\n",
      "\n",
      "     neutral       0.00      0.00      0.00       188\n",
      "        calm       0.07      0.11      0.09       374\n",
      "       happy       0.19      0.17      0.18       375\n",
      "         sad       0.10      0.12      0.11       371\n",
      "       angry       0.01      0.01      0.01       374\n",
      "        fear       0.00      0.00      0.00       373\n",
      "     disgust       0.00      0.00      0.00       372\n",
      "    surprise       0.00      0.00      0.00       373\n",
      "\n",
      "   micro avg       0.09      0.06      0.07      2800\n",
      "   macro avg       0.05      0.05      0.05      2800\n",
      "weighted avg       0.05      0.06      0.05      2800\n",
      "\n",
      "Confusion matrix saved at: results/plots/ravdess_confusion_matrix.png\n"
     ]
    },
    {
     "name": "stderr",
     "output_type": "stream",
     "text": [
      "\n"
     ]
    }
   ],
   "source": [
    "# Run RAVDESS Validation\n",
    "print(\"\\nStarting RAVDESS validation with Wav2Vec2...\")\n",
    "ravdess_data = load_ravdess_audio(ravdess_test_data)\n",
    "audio_ground_truth, audio_predictions = validate_wav2vec2_ravdess(ravdess_data, sample_size=2800)\n",
    "visualize_results(audio_ground_truth, audio_predictions, labels=['neutral', 'calm', 'happy', 'sad', 'angry', 'fear', 'disgust', 'surprise'], save_dir=\"results/plots\", filename=\"ravdess_confusion_matrix.png\")"
   ]
  }
 ],
 "metadata": {
  "kernelspec": {
   "display_name": "venv",
   "language": "python",
   "name": "python3"
  },
  "language_info": {
   "codemirror_mode": {
    "name": "ipython",
    "version": 3
   },
   "file_extension": ".py",
   "mimetype": "text/x-python",
   "name": "python",
   "nbconvert_exporter": "python",
   "pygments_lexer": "ipython3",
   "version": "3.11.11"
  }
 },
 "nbformat": 4,
 "nbformat_minor": 2
}
